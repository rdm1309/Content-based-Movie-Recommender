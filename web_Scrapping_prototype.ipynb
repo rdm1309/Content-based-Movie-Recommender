{
  "nbformat": 4,
  "nbformat_minor": 0,
  "metadata": {
    "colab": {
      "provenance": [],
      "authorship_tag": "ABX9TyNknwxG1mHM6c6PmVXsgc+P",
      "include_colab_link": true
    },
    "kernelspec": {
      "name": "python3",
      "display_name": "Python 3"
    },
    "language_info": {
      "name": "python"
    }
  },
  "cells": [
    {
      "cell_type": "markdown",
      "metadata": {
        "id": "view-in-github",
        "colab_type": "text"
      },
      "source": [
        "<a href=\"https://colab.research.google.com/github/rdm1309/Content-based-Movie-Recommender/blob/main/web_Scrapping_prototype.ipynb\" target=\"_parent\"><img src=\"https://colab.research.google.com/assets/colab-badge.svg\" alt=\"Open In Colab\"/></a>"
      ]
    },
    {
      "cell_type": "markdown",
      "source": [
        "# **BeautifulSoup**"
      ],
      "metadata": {
        "id": "eXkKZeRJGOGB"
      }
    },
    {
      "cell_type": "code",
      "execution_count": null,
      "metadata": {
        "id": "B1roXa1-7WcP"
      },
      "outputs": [],
      "source": [
        "import requests\n",
        "from bs4 import BeautifulSoup\n",
        "from lxml import etree"
      ]
    },
    {
      "cell_type": "code",
      "source": [
        "headers = {\n",
        "    'User-Agent':'Mozilla/5.0 (Windows NT 10.0; WOW64) AppleWebKit/537.36 (KHTML, like Gecko) Chrome/108.0.0.0 Safari/537.36'\n",
        "}\n",
        "url= \"\"\n",
        "file_name = ' '.join(url.split('/')[2:1])"
      ],
      "metadata": {
        "id": "cU7HGIv88DHy"
      },
      "execution_count": null,
      "outputs": []
    },
    {
      "cell_type": "code",
      "source": [
        "file_name"
      ],
      "metadata": {
        "colab": {
          "base_uri": "https://localhost:8080/"
        },
        "id": "G2ZcciEOlXDe",
        "outputId": "3a798aaf-e56a-476a-97b1-b42316b540eb"
      },
      "execution_count": null,
      "outputs": [
        {
          "output_type": "execute_result",
          "data": {
            "text/plain": [
              "[]"
            ]
          },
          "metadata": {},
          "execution_count": 314
        }
      ]
    },
    {
      "cell_type": "code",
      "source": [
        "req = requests.get(url, headers=headers)"
      ],
      "metadata": {
        "id": "zKmDe6lb8dSZ"
      },
      "execution_count": null,
      "outputs": []
    },
    {
      "cell_type": "code",
      "source": [
        "soup = BeautifulSoup(req.content,'lxml')"
      ],
      "metadata": {
        "id": "0ANeb4FL8o5p"
      },
      "execution_count": null,
      "outputs": []
    },
    {
      "cell_type": "code",
      "source": [
        "print(soup.prettify)"
      ],
      "metadata": {
        "id": "AsTzZhmA8490"
      },
      "execution_count": null,
      "outputs": []
    },
    {
      "cell_type": "markdown",
      "source": [
        "# extracting title"
      ],
      "metadata": {
        "id": "tHxA3_jgGGE8"
      }
    },
    {
      "cell_type": "code",
      "source": [
        "title =soup.find('h1').get_text()\n",
        "print(title)"
      ],
      "metadata": {
        "colab": {
          "base_uri": "https://localhost:8080/"
        },
        "id": "xFPt6rTMCIQL",
        "outputId": "d38b604a-7940-4cc9-b3b3-c97bae4fc4f5"
      },
      "execution_count": null,
      "outputs": [
        {
          "output_type": "stream",
          "name": "stdout",
          "text": [
            "AI in healthcare to Improve Patient Outcomes\n"
          ]
        }
      ]
    },
    {
      "cell_type": "markdown",
      "source": [
        "# extracting paragraph"
      ],
      "metadata": {
        "id": "Ep-BJf_DGKyb"
      }
    },
    {
      "cell_type": "code",
      "source": [
        "pa = []\n",
        "for i in soup.find_all('p'):\n",
        "  pa.append(i.text)\n",
        "  \n"
      ],
      "metadata": {
        "id": "EOMzNliJIwBW"
      },
      "execution_count": null,
      "outputs": []
    },
    {
      "cell_type": "code",
      "source": [
        "pa"
      ],
      "metadata": {
        "id": "PvCKYLO7Y_Sb"
      },
      "execution_count": null,
      "outputs": []
    },
    {
      "cell_type": "code",
      "source": [
        "string=''.join(pa)"
      ],
      "metadata": {
        "id": "QL2Wpm0cb6dZ"
      },
      "execution_count": null,
      "outputs": []
    },
    {
      "cell_type": "markdown",
      "source": [
        "# exporting to file"
      ],
      "metadata": {
        "id": "WEjYp0lDRLQw"
      }
    },
    {
      "cell_type": "code",
      "source": [],
      "metadata": {
        "id": "zeI_RXEsk9CZ"
      },
      "execution_count": null,
      "outputs": []
    },
    {
      "cell_type": "code",
      "source": [
        "print(file_name)"
      ],
      "metadata": {
        "colab": {
          "base_uri": "https://localhost:8080/"
        },
        "id": "i_WiMRIuk_dj",
        "outputId": "da0ca41a-a094-4a88-daa2-5b29646dca1e"
      },
      "execution_count": null,
      "outputs": [
        {
          "output_type": "stream",
          "name": "stdout",
          "text": [
            "\n"
          ]
        }
      ]
    },
    {
      "cell_type": "code",
      "source": [
        "\n",
        "def save_to_file():\n",
        "  f=open('file_name','w')\n",
        "  f.write(title + '\\n')\n",
        "  f.write(string)\n",
        "  f.close()"
      ],
      "metadata": {
        "id": "YUdyFliCVm0w"
      },
      "execution_count": null,
      "outputs": []
    },
    {
      "cell_type": "code",
      "source": [
        "save_to_file()"
      ],
      "metadata": {
        "id": "DhISyM1Ya_3y"
      },
      "execution_count": null,
      "outputs": []
    }
  ]
}